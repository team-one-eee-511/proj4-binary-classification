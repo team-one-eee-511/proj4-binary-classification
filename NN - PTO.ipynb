{
 "cells": [
  {
   "cell_type": "code",
   "execution_count": 20,
   "metadata": {},
   "outputs": [],
   "source": [
    "\n",
    "# https://www.kaggle.com/ternaryrealm/lstm-time-series-explorations-with-keras\n",
    "# https://machinelearningmastery.com/time-series-prediction-with-deep-learning-in-python-with-keras/\n",
    "    \n",
    "import sys\n",
    "import math\n",
    "\n",
    "# !{sys.executable} -m pip install --upgrade pip\n",
    "\n",
    "try:\n",
    "    import numpy as np\n",
    "except ModuleNotFoundError:\n",
    "    !{sys.executable} -m pip install numpy\n",
    "    import numpy as np\n",
    "    \n",
    "\n",
    "try:\n",
    "    import pandas as pd\n",
    "except ModuleNotFoundError:\n",
    "    !{sys.executable} -m pip install pandas\n",
    "    import pandas as pd\n",
    "\n",
    "    \n",
    "try:\n",
    "    import matplotlib\n",
    "    import matplotlib.pyplot as plt\n",
    "except ModuleNotFoundError:\n",
    "    !{sys.executable} -m pip install matplotlib\n",
    "    import matplotlib.pyplot as plt\n",
    "\n",
    "    \n",
    "try:\n",
    "    import scipy\n",
    "    import scipy.io\n",
    "except ModuleNotFoundError:\n",
    "    !{sys.executable} -m pip install scipy\n",
    "    import scipy\n",
    "\n",
    "        \n",
    "try:\n",
    "    import sklearn\n",
    "except ModuleNotFoundError:\n",
    "    !{sys.executable} -m pip install sklearn\n",
    "    import sklearn\n",
    "\n",
    "        \n",
    "try:\n",
    "    import keras\n",
    "except ModuleNotFoundError:\n",
    "    !{sys.executable} -m pip install keras\n",
    "    import keras\n",
    "    \n",
    "\n",
    "try:\n",
    "    import keras_metrics\n",
    "except ModuleNotFoundError:\n",
    "    !{sys.executable} -m pip install keras_metrics\n",
    "    import keras_metrics\n",
    "\n",
    "from keras.models import Sequential\n",
    "from keras.layers import Dense\n",
    "import keras_metrics\n",
    "from keras.wrappers.scikit_learn import KerasClassifier\n",
    "from sklearn.model_selection import cross_val_score\n",
    "from sklearn.preprocessing import LabelEncoder\n",
    "from sklearn.model_selection import StratifiedKFold\n",
    "from sklearn.preprocessing import StandardScaler\n",
    "from sklearn.pipeline import Pipeline"
   ]
  },
  {
   "cell_type": "code",
   "execution_count": 21,
   "metadata": {},
   "outputs": [],
   "source": [
    "\n",
    "\"\"\"\n",
    "Make plot outputs appear and be stored within the notebook\n",
    "\"\"\"\n",
    "%matplotlib inline\n",
    "\n",
    "\"\"\"\n",
    "fix random seed for reproducibility\n",
    "\"\"\"\n",
    "seed = 7\n",
    "np.random.seed(seed)"
   ]
  },
  {
   "cell_type": "code",
   "execution_count": 22,
   "metadata": {},
   "outputs": [],
   "source": [
    "# load dataset\n",
    "data = pd.read_csv(\"dataset_PTO.csv\", header=None)\n",
    "cat = pd.read_csv(\"Category_PTO.csv\", header=None)\n",
    "dataset = data #.values\n",
    "catset = cat #.values\n",
    "# split into input (X) and output (Y) variables\n",
    "X = dataset #.astype(float)\n",
    "Y = catset #.astype(float)\n",
    "\n",
    "train_size = int(len(X) * 0.66)\n",
    "\n",
    "trainX = X.head(train_size) \n",
    "testX = X.tail(len(X) - train_size)\n",
    "\n",
    "trainY = Y.head(train_size) \n",
    "testY = Y.tail(len(Y) - train_size)\n"
   ]
  },
  {
   "cell_type": "code",
   "execution_count": 23,
   "metadata": {},
   "outputs": [],
   "source": [
    "%%capture\n",
    "\n",
    "# create model\n",
    "model = Sequential()\n",
    "model.add(Dense(4, input_dim=trainX.shape[1], activation='relu'))\n",
    "model.add(Dense(4))\n",
    "model.add(Dense(1))\n",
    "# Compile model\n",
    "model.compile(loss='mean_squared_error', optimizer='adam', metrics=[keras_metrics.precision(), keras_metrics.recall()])\n",
    "model.fit(trainX, trainY, epochs=200, batch_size=10, verbose=2)"
   ]
  },
  {
   "cell_type": "code",
   "execution_count": 24,
   "metadata": {},
   "outputs": [],
   "source": [
    "# Estimate model performance\n",
    "trainScore, trainPrecision, trainRecall = model.evaluate(trainX, trainY, verbose=0)\n",
    "# print('Train Score: %.2f MSE (%.2f RMSE)' % (trainScore, math.sqrt(trainScore)))\n",
    "testScore, testPrecision, testRecall = model.evaluate(testX, testY, verbose=0)\n",
    "\n"
   ]
  },
  {
   "cell_type": "code",
   "execution_count": 25,
   "metadata": {},
   "outputs": [
    {
     "name": "stdout",
     "output_type": "stream",
     "text": [
      "Test MSE: 0.14 (0.38 RMSE)\n",
      "Test Precision: 0.78 \n",
      "Test Recall: 0.84 \n",
      "Test F1: 0.81 \n"
     ]
    }
   ],
   "source": [
    "print('Test MSE: %.2f (%.2f RMSE)' % (testScore, math.sqrt(testScore)))\n",
    "print('Test Precision: %.2f ' % (testPrecision))\n",
    "print('Test Recall: %.2f ' % (testRecall))\n",
    "testF1 = 2*(testPrecision*testRecall/(testPrecision+testRecall))\n",
    "print('Test F1: %.2f ' % (testF1))"
   ]
  },
  {
   "cell_type": "code",
   "execution_count": 26,
   "metadata": {},
   "outputs": [
    {
     "data": {
      "text/plain": [
       "Text(0.5,1,'2-class Precision-Recall curve')"
      ]
     },
     "execution_count": 26,
     "metadata": {},
     "output_type": "execute_result"
    },
    {
     "data": {
      "image/png": "[encoded data removed]",
      "text/plain": [
       "<Figure size 432x288 with 1 Axes>"
      ]
     },
     "metadata": {},
     "output_type": "display_data"
    }
   ],
   "source": [
    "from sklearn.metrics import classification_report, confusion_matrix, precision_recall_curve, average_precision_score, mean_squared_error\n",
    "from sklearn.utils.fixes import signature\n",
    "\n",
    "scoreY = model.predict(testX)\n",
    "precision, recall, _ = precision_recall_curve(testY, scoreY)\n",
    "\n",
    "# In matplotlib < 1.5, plt.fill_between does not have a 'step' argument\n",
    "step_kwargs = ({'step': 'post'}\n",
    "               if 'step' in signature(plt.fill_between).parameters\n",
    "               else {})\n",
    "plt.step(recall, precision, color='b', alpha=0.2,\n",
    "         where='post')\n",
    "plt.fill_between(recall, precision, alpha=0.2, color='b', **step_kwargs)\n",
    "\n",
    "plt.xlabel('Recall')\n",
    "plt.ylabel('Precision')\n",
    "plt.ylim([0.0, 1.05])\n",
    "plt.xlim([0.0, 1.0])\n",
    "# plt.title('2-class Precision-Recall curve: AP={0:0.2f}'.format(\n",
    "#          average_precision))\n",
    "plt.title('2-class Precision-Recall curve')"
   ]
  }
 ],
 "metadata": {
  "kernelspec": {
   "display_name": "Python 3",
   "language": "python",
   "name": "python3"
  },
  "language_info": {
   "codemirror_mode": {
    "name": "ipython",
    "version": 3
   },
   "file_extension": ".py",
   "mimetype": "text/x-python",
   "name": "python",
   "nbconvert_exporter": "python",
   "pygments_lexer": "ipython3",
   "version": "3.6.5"
  }
 },
 "nbformat": 4,
 "nbformat_minor": 2
}
