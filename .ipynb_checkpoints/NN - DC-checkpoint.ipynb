{
 "cells": [
  {
   "cell_type": "code",
   "execution_count": 176,
   "metadata": {},
   "outputs": [],
   "source": [
    "\n",
    "# https://www.kaggle.com/ternaryrealm/lstm-time-series-explorations-with-keras\n",
    "# https://machinelearningmastery.com/time-series-prediction-with-deep-learning-in-python-with-keras/\n",
    "    \n",
    "import sys\n",
    "import math\n",
    "\n",
    "# !{sys.executable} -m pip install --upgrade pip\n",
    "\n",
    "try:\n",
    "    import numpy as np\n",
    "except ModuleNotFoundError:\n",
    "    !{sys.executable} -m pip install numpy\n",
    "    import numpy as np\n",
    "    \n",
    "\n",
    "try:\n",
    "    import pandas as pd\n",
    "except ModuleNotFoundError:\n",
    "    !{sys.executable} -m pip install pandas\n",
    "    import pandas as pd\n",
    "\n",
    "    \n",
    "try:\n",
    "    import matplotlib\n",
    "    import matplotlib.pyplot as plt\n",
    "except ModuleNotFoundError:\n",
    "    !{sys.executable} -m pip install matplotlib\n",
    "    import matplotlib.pyplot as plt\n",
    "\n",
    "    \n",
    "try:\n",
    "    import scipy\n",
    "    import scipy.io\n",
    "except ModuleNotFoundError:\n",
    "    !{sys.executable} -m pip install scipy\n",
    "    import scipy\n",
    "\n",
    "        \n",
    "try:\n",
    "    import sklearn\n",
    "except ModuleNotFoundError:\n",
    "    !{sys.executable} -m pip install sklearn\n",
    "    import sklearn\n",
    "\n",
    "        \n",
    "try:\n",
    "    import keras\n",
    "except ModuleNotFoundError:\n",
    "    !{sys.executable} -m pip install keras\n",
    "    import keras\n",
    "    \n",
    "\n",
    "try:\n",
    "    import keras_metrics\n",
    "except ModuleNotFoundError:\n",
    "    !{sys.executable} -m pip install keras_metrics\n",
    "    import keras_metrics\n",
    "\n",
    "from keras.models import Sequential\n",
    "from keras.layers import Dense\n",
    "import keras_metrics\n",
    "from keras.wrappers.scikit_learn import KerasClassifier\n",
    "from sklearn.model_selection import cross_val_score\n",
    "from sklearn.preprocessing import LabelEncoder\n",
    "from sklearn.model_selection import StratifiedKFold\n",
    "from sklearn.preprocessing import StandardScaler\n",
    "from sklearn.pipeline import Pipeline"
   ]
  },
  {
   "cell_type": "code",
   "execution_count": 177,
   "metadata": {},
   "outputs": [],
   "source": [
    "\n",
    "\"\"\"\n",
    "Make plot outputs appear and be stored within the notebook\n",
    "\"\"\"\n",
    "%matplotlib inline\n",
    "\n",
    "\"\"\"\n",
    "fix random seed for reproducibility\n",
    "\"\"\"\n",
    "seed = 7\n",
    "np.random.seed(seed)"
   ]
  },
  {
   "cell_type": "code",
   "execution_count": 178,
   "metadata": {},
   "outputs": [],
   "source": [
    "# load dataset\n",
    "data = pd.read_csv(\"dataset_DC.csv\", header=None)\n",
    "cat = pd.read_csv(\"Category_DC.csv\", header=None)\n",
    "dataset = data #.values\n",
    "catset = cat #.values\n",
    "# split into input (X) and output (Y) variables\n",
    "X = dataset #.astype(float)\n",
    "Y = catset #.astype(float)\n",
    "\n",
    "train_size = int(len(X) * 0.67)\n",
    "\n",
    "trainX = X.head(train_size) \n",
    "testX = X.tail(len(X) - train_size)\n",
    "\n",
    "trainY = Y.head(train_size) \n",
    "testY = Y.tail(len(Y) - train_size)\n"
   ]
  },
  {
   "cell_type": "code",
   "execution_count": 179,
   "metadata": {},
   "outputs": [],
   "source": [
    "%%capture\n",
    "\n",
    "# create model\n",
    "model = Sequential()\n",
    "model.add(Dense(32, input_dim=trainX.shape[1], activation='relu'))\n",
    "model.add(Dense(8))\n",
    "model.add(Dense(1))\n",
    "# Compile model\n",
    "model.compile(loss='mean_squared_error', optimizer='adam', metrics=[keras_metrics.precision(), keras_metrics.recall()])\n",
    "model.fit(trainX, trainY, epochs=200, batch_size=10, verbose=2)"
   ]
  },
  {
   "cell_type": "code",
   "execution_count": 180,
   "metadata": {},
   "outputs": [],
   "source": [
    "# Estimate model performance\n",
    "trainScore, trainPrecision, trainRecall = model.evaluate(trainX, trainY, verbose=0)\n",
    "# print('Train Score: %.2f MSE (%.2f RMSE)' % (trainScore, math.sqrt(trainScore)))\n",
    "testScore, testPrecision, testRecall = model.evaluate(testX, testY, verbose=0)\n",
    "\n"
   ]
  },
  {
   "cell_type": "code",
   "execution_count": 181,
   "metadata": {},
   "outputs": [
    {
     "name": "stdout",
     "output_type": "stream",
     "text": [
      "Test MSE: 0.31 (0.56 RMSE)\n",
      "Test Precision: 0.74 \n",
      "Test Recall: 0.64 \n",
      "Test F1: 0.69 \n"
     ]
    }
   ],
   "source": [
    "print('Test MSE: %.2f (%.2f RMSE)' % (testScore, math.sqrt(testScore)))\n",
    "print('Test Precision: %.2f ' % (testPrecision))\n",
    "print('Test Recall: %.2f ' % (testRecall))\n",
    "testF1 = 2*(testPrecision*testRecall/(testPrecision+testRecall))\n",
    "print('Test F1: %.2f ' % (testF1))"
   ]
  }
 ],
 "metadata": {
  "kernelspec": {
   "display_name": "Python 3",
   "language": "python",
   "name": "python3"
  },
  "language_info": {
   "codemirror_mode": {
    "name": "ipython",
    "version": 3
   },
   "file_extension": ".py",
   "mimetype": "text/x-python",
   "name": "python",
   "nbconvert_exporter": "python",
   "pygments_lexer": "ipython3",
   "version": "3.6.5"
  }
 },
 "nbformat": 4,
 "nbformat_minor": 2
}
