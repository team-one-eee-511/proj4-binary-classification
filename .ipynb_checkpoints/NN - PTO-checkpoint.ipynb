{
 "cells": [
  {
   "cell_type": "code",
   "execution_count": 100,
   "metadata": {},
   "outputs": [],
   "source": [
    "\n",
    "# https://www.kaggle.com/ternaryrealm/lstm-time-series-explorations-with-keras\n",
    "# https://machinelearningmastery.com/time-series-prediction-with-deep-learning-in-python-with-keras/\n",
    "    \n",
    "import sys\n",
    "import math\n",
    "\n",
    "# !{sys.executable} -m pip install --upgrade pip\n",
    "\n",
    "try:\n",
    "    import numpy as np\n",
    "except ModuleNotFoundError:\n",
    "    !{sys.executable} -m pip install numpy\n",
    "    import numpy as np\n",
    "    \n",
    "\n",
    "try:\n",
    "    import pandas as pd\n",
    "except ModuleNotFoundError:\n",
    "    !{sys.executable} -m pip install pandas\n",
    "    import pandas as pd\n",
    "\n",
    "    \n",
    "try:\n",
    "    import matplotlib\n",
    "    import matplotlib.pyplot as plt\n",
    "except ModuleNotFoundError:\n",
    "    !{sys.executable} -m pip install matplotlib\n",
    "    import matplotlib.pyplot as plt\n",
    "\n",
    "    \n",
    "try:\n",
    "    import scipy\n",
    "    import scipy.io\n",
    "except ModuleNotFoundError:\n",
    "    !{sys.executable} -m pip install scipy\n",
    "    import scipy\n",
    "\n",
    "        \n",
    "try:\n",
    "    import sklearn\n",
    "except ModuleNotFoundError:\n",
    "    !{sys.executable} -m pip install sklearn\n",
    "    import sklearn\n",
    "\n",
    "        \n",
    "try:\n",
    "    import keras\n",
    "except ModuleNotFoundError:\n",
    "    !{sys.executable} -m pip install keras\n",
    "    import keras\n",
    "    \n",
    "\n",
    "try:\n",
    "    import keras_metrics\n",
    "except ModuleNotFoundError:\n",
    "    !{sys.executable} -m pip install keras_metrics\n",
    "    import keras_metrics\n",
    "\n",
    "from keras.models import Sequential\n",
    "from keras.layers import Dense\n",
    "import keras_metrics\n",
    "from keras.wrappers.scikit_learn import KerasClassifier\n",
    "from sklearn.model_selection import cross_val_score\n",
    "from sklearn.preprocessing import LabelEncoder\n",
    "from sklearn.model_selection import StratifiedKFold\n",
    "from sklearn.preprocessing import StandardScaler\n",
    "from sklearn.pipeline import Pipeline"
   ]
  },
  {
   "cell_type": "code",
   "execution_count": 101,
   "metadata": {},
   "outputs": [],
   "source": [
    "\n",
    "\"\"\"\n",
    "Make plot outputs appear and be stored within the notebook\n",
    "\"\"\"\n",
    "%matplotlib inline\n",
    "\n",
    "\"\"\"\n",
    "fix random seed for reproducibility\n",
    "\"\"\"\n",
    "seed = 7\n",
    "np.random.seed(seed)"
   ]
  },
  {
   "cell_type": "code",
   "execution_count": 102,
   "metadata": {},
   "outputs": [],
   "source": [
    "# load dataset\n",
    "data = pd.read_csv(\"dataset_PTO.csv\", header=None)\n",
    "cat = pd.read_csv(\"Category_PTO.csv\", header=None)\n",
    "dataset = data #.values\n",
    "catset = cat #.values\n",
    "# split into input (X) and output (Y) variables\n",
    "X = dataset #.astype(float)\n",
    "Y = catset #.astype(float)\n",
    "\n",
    "from sklearn.model_selection import train_test_split  \n",
    "trainX, testX, trainY, testY = train_test_split(X, Y, test_size = 0.30)  "
   ]
  },
  {
   "cell_type": "code",
   "execution_count": 103,
   "metadata": {},
   "outputs": [],
   "source": [
    "%%capture\n",
    "\n",
    "# create model\n",
    "model = Sequential()\n",
    "model.add(Dense(60, input_dim=trainX.shape[1], kernel_initializer='normal', activation='relu'))\n",
    "model.add(Dense(1, kernel_initializer='normal', activation='sigmoid'))\n",
    "# Compile model\n",
    "model.compile(loss='binary_crossentropy', optimizer='adam', metrics=['accuracy'])\n",
    "# Compile model\n",
    "model.fit(trainX, trainY, epochs=100, batch_size=10, verbose=2)"
   ]
  },
  {
   "cell_type": "code",
   "execution_count": 104,
   "metadata": {},
   "outputs": [
    {
     "name": "stdout",
     "output_type": "stream",
     "text": [
      "             precision    recall  f1-score   support\n",
      "\n",
      "        0.0       0.93      0.77      0.85       146\n",
      "        1.0       0.79      0.94      0.86       133\n",
      "\n",
      "avg / total       0.87      0.85      0.85       279\n",
      "\n"
     ]
    }
   ],
   "source": [
    "from sklearn.metrics import classification_report, confusion_matrix, precision_recall_curve, average_precision_score, mean_squared_error\n",
    "predY = model.predict_classes(testX)\n",
    "print(classification_report(testY,predY))\n"
   ]
  },
  {
   "cell_type": "code",
   "execution_count": 105,
   "metadata": {},
   "outputs": [
    {
     "data": {
      "text/plain": [
       "Text(0.5,1,'2-class Precision-Recall curve')"
      ]
     },
     "execution_count": 105,
     "metadata": {},
     "output_type": "execute_result"
    },
    {
     "data": {
      "image/png": "[encoded data removed]",
      "text/plain": [
       "<Figure size 432x288 with 1 Axes>"
      ]
     },
     "metadata": {},
     "output_type": "display_data"
    }
   ],
   "source": [
    "from sklearn.metrics import classification_report, confusion_matrix, precision_recall_curve, average_precision_score, mean_squared_error\n",
    "from sklearn.utils.fixes import signature\n",
    "\n",
    "scoreY = model.predict_classes(testX)\n",
    "precision, recall, _ = precision_recall_curve(testY, scoreY)\n",
    "\n",
    "# In matplotlib < 1.5, plt.fill_between does not have a 'step' argument\n",
    "step_kwargs = ({'step': 'post'}\n",
    "               if 'step' in signature(plt.fill_between).parameters\n",
    "               else {})\n",
    "plt.step(recall, precision, color='b', alpha=0.2,\n",
    "         where='post')\n",
    "plt.fill_between(recall, precision, alpha=0.2, color='b', **step_kwargs)\n",
    "\n",
    "plt.xlabel('Recall')\n",
    "plt.ylabel('Precision')\n",
    "plt.ylim([0.0, 1.05])\n",
    "plt.xlim([0.0, 1.0])\n",
    "# plt.title('2-class Precision-Recall curve: AP={0:0.2f}'.format(\n",
    "#          average_precision))\n",
    "plt.title('2-class Precision-Recall curve')"
   ]
  }
 ],
 "metadata": {
  "kernelspec": {
   "display_name": "Python 3",
   "language": "python",
   "name": "python3"
  },
  "language_info": {
   "codemirror_mode": {
    "name": "ipython",
    "version": 3
   },
   "file_extension": ".py",
   "mimetype": "text/x-python",
   "name": "python",
   "nbconvert_exporter": "python",
   "pygments_lexer": "ipython3",
   "version": "3.6.5"
  }
 },
 "nbformat": 4,
 "nbformat_minor": 2
}
